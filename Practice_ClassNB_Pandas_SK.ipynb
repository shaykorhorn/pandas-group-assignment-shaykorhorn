{
 "cells": [
  {
   "cell_type": "markdown",
   "id": "31926f8f",
   "metadata": {},
   "source": [
    "- Shay Korhorn\n",
    "- Spring 2024\n",
    "- DS-160\n",
    "- Pandas Group Assignment"
   ]
  },
  {
   "cell_type": "markdown",
   "id": "e266950b",
   "metadata": {},
   "source": [
    "### We're going to use a new dataset here, to demonstrate how to deal with larger datasets. This is a subset of the of 311 service requests from [NYC Open Data](https://nycopendata.socrata.com/Social-Services/311-Service-Requests-from-2010-to-Present/erm2-nwe9). \n",
    "Work in a group whom you did not worked before and submit the work before Next class\n",
    "- Rename the notebook Practice_ClassNB_Pandas_XX (your initial)\n",
    "- Indivijual submission "
   ]
  },
  {
   "cell_type": "markdown",
   "id": "2cc29949",
   "metadata": {},
   "source": [
    "#### Import pandas, numpy"
   ]
  },
  {
   "cell_type": "code",
   "execution_count": 1,
   "id": "7ad62f84",
   "metadata": {},
   "outputs": [],
   "source": [
    "import pandas as pd\n",
    "import numpy as np"
   ]
  },
  {
   "cell_type": "markdown",
   "id": "2146556e",
   "metadata": {},
   "source": [
    "### 1. Load the data using read_csv and give it a name complains"
   ]
  },
  {
   "cell_type": "markdown",
   "id": "7d6e8b33",
   "metadata": {},
   "source": [
    "Depending on your pandas version, you might see an error like \"DtypeWarning: Columns (8) have mixed types\". This means that it's encountered a problem reading in our data. In this case it almost certainly means that it has columns where some of the entries are strings and some are integers.\n",
    "#### pd.read_csv('______________.csv',`dtype='unicode'`)"
   ]
  },
  {
   "cell_type": "code",
   "execution_count": 2,
   "id": "278e674b",
   "metadata": {},
   "outputs": [],
   "source": [
    "complaints=pd.read_csv('311-service-requests.csv', dtype='unicode')"
   ]
  },
  {
   "cell_type": "markdown",
   "id": "0d51cdf9",
   "metadata": {},
   "source": [
    "### 2. What's even in it? (the summary)\n"
   ]
  },
  {
   "cell_type": "markdown",
   "id": "5278ea1f",
   "metadata": {},
   "source": [
    "The data represents various complaints/service requests to various NYC departments. "
   ]
  },
  {
   "cell_type": "code",
   "execution_count": 3,
   "id": "02404d56",
   "metadata": {},
   "outputs": [
    {
     "data": {
      "text/html": [
       "<div>\n",
       "<style scoped>\n",
       "    .dataframe tbody tr th:only-of-type {\n",
       "        vertical-align: middle;\n",
       "    }\n",
       "\n",
       "    .dataframe tbody tr th {\n",
       "        vertical-align: top;\n",
       "    }\n",
       "\n",
       "    .dataframe thead th {\n",
       "        text-align: right;\n",
       "    }\n",
       "</style>\n",
       "<table border=\"1\" class=\"dataframe\">\n",
       "  <thead>\n",
       "    <tr style=\"text-align: right;\">\n",
       "      <th></th>\n",
       "      <th>Unique Key</th>\n",
       "      <th>Created Date</th>\n",
       "      <th>Closed Date</th>\n",
       "      <th>Agency</th>\n",
       "      <th>Agency Name</th>\n",
       "      <th>Complaint Type</th>\n",
       "      <th>Descriptor</th>\n",
       "      <th>Location Type</th>\n",
       "      <th>Incident Zip</th>\n",
       "      <th>Incident Address</th>\n",
       "      <th>...</th>\n",
       "      <th>Bridge Highway Name</th>\n",
       "      <th>Bridge Highway Direction</th>\n",
       "      <th>Road Ramp</th>\n",
       "      <th>Bridge Highway Segment</th>\n",
       "      <th>Garage Lot Name</th>\n",
       "      <th>Ferry Direction</th>\n",
       "      <th>Ferry Terminal Name</th>\n",
       "      <th>Latitude</th>\n",
       "      <th>Longitude</th>\n",
       "      <th>Location</th>\n",
       "    </tr>\n",
       "  </thead>\n",
       "  <tbody>\n",
       "    <tr>\n",
       "      <th>0</th>\n",
       "      <td>26589651</td>\n",
       "      <td>10/31/13 2:08</td>\n",
       "      <td>NaN</td>\n",
       "      <td>NYPD</td>\n",
       "      <td>New York City Police Department</td>\n",
       "      <td>Noise - Street/Sidewalk</td>\n",
       "      <td>Loud Talking</td>\n",
       "      <td>Street/Sidewalk</td>\n",
       "      <td>11432</td>\n",
       "      <td>90-03 169 STREET</td>\n",
       "      <td>...</td>\n",
       "      <td>NaN</td>\n",
       "      <td>NaN</td>\n",
       "      <td>NaN</td>\n",
       "      <td>NaN</td>\n",
       "      <td>NaN</td>\n",
       "      <td>NaN</td>\n",
       "      <td>NaN</td>\n",
       "      <td>40.70827533</td>\n",
       "      <td>-73.79160396</td>\n",
       "      <td>(40.70827532593202, -73.79160395779721)</td>\n",
       "    </tr>\n",
       "    <tr>\n",
       "      <th>1</th>\n",
       "      <td>26593698</td>\n",
       "      <td>10/31/13 2:01</td>\n",
       "      <td>NaN</td>\n",
       "      <td>NYPD</td>\n",
       "      <td>New York City Police Department</td>\n",
       "      <td>Illegal Parking</td>\n",
       "      <td>Commercial Overnight Parking</td>\n",
       "      <td>Street/Sidewalk</td>\n",
       "      <td>11378</td>\n",
       "      <td>58 AVENUE</td>\n",
       "      <td>...</td>\n",
       "      <td>NaN</td>\n",
       "      <td>NaN</td>\n",
       "      <td>NaN</td>\n",
       "      <td>NaN</td>\n",
       "      <td>NaN</td>\n",
       "      <td>NaN</td>\n",
       "      <td>NaN</td>\n",
       "      <td>40.72104054</td>\n",
       "      <td>-73.90945307</td>\n",
       "      <td>(40.721040535628305, -73.90945306791765)</td>\n",
       "    </tr>\n",
       "    <tr>\n",
       "      <th>2</th>\n",
       "      <td>26594139</td>\n",
       "      <td>10/31/13 2:00</td>\n",
       "      <td>10/31/13 2:40</td>\n",
       "      <td>NYPD</td>\n",
       "      <td>New York City Police Department</td>\n",
       "      <td>Noise - Commercial</td>\n",
       "      <td>Loud Music/Party</td>\n",
       "      <td>Club/Bar/Restaurant</td>\n",
       "      <td>10032</td>\n",
       "      <td>4060 BROADWAY</td>\n",
       "      <td>...</td>\n",
       "      <td>NaN</td>\n",
       "      <td>NaN</td>\n",
       "      <td>NaN</td>\n",
       "      <td>NaN</td>\n",
       "      <td>NaN</td>\n",
       "      <td>NaN</td>\n",
       "      <td>NaN</td>\n",
       "      <td>40.84332975</td>\n",
       "      <td>-73.93914372</td>\n",
       "      <td>(40.84332975466513, -73.93914371913482)</td>\n",
       "    </tr>\n",
       "    <tr>\n",
       "      <th>3</th>\n",
       "      <td>26595721</td>\n",
       "      <td>10/31/13 1:56</td>\n",
       "      <td>10/31/13 2:21</td>\n",
       "      <td>NYPD</td>\n",
       "      <td>New York City Police Department</td>\n",
       "      <td>Noise - Vehicle</td>\n",
       "      <td>Car/Truck Horn</td>\n",
       "      <td>Street/Sidewalk</td>\n",
       "      <td>10023</td>\n",
       "      <td>WEST 72 STREET</td>\n",
       "      <td>...</td>\n",
       "      <td>NaN</td>\n",
       "      <td>NaN</td>\n",
       "      <td>NaN</td>\n",
       "      <td>NaN</td>\n",
       "      <td>NaN</td>\n",
       "      <td>NaN</td>\n",
       "      <td>NaN</td>\n",
       "      <td>40.77800874</td>\n",
       "      <td>-73.98021349</td>\n",
       "      <td>(40.7780087446372, -73.98021349023975)</td>\n",
       "    </tr>\n",
       "    <tr>\n",
       "      <th>4</th>\n",
       "      <td>26590930</td>\n",
       "      <td>10/31/13 1:53</td>\n",
       "      <td>NaN</td>\n",
       "      <td>DOHMH</td>\n",
       "      <td>Department of Health and Mental Hygiene</td>\n",
       "      <td>Rodent</td>\n",
       "      <td>Condition Attracting Rodents</td>\n",
       "      <td>Vacant Lot</td>\n",
       "      <td>10027</td>\n",
       "      <td>WEST 124 STREET</td>\n",
       "      <td>...</td>\n",
       "      <td>NaN</td>\n",
       "      <td>NaN</td>\n",
       "      <td>NaN</td>\n",
       "      <td>NaN</td>\n",
       "      <td>NaN</td>\n",
       "      <td>NaN</td>\n",
       "      <td>NaN</td>\n",
       "      <td>40.80769093</td>\n",
       "      <td>-73.94738703</td>\n",
       "      <td>(40.80769092704951, -73.94738703491433)</td>\n",
       "    </tr>\n",
       "  </tbody>\n",
       "</table>\n",
       "<p>5 rows × 52 columns</p>\n",
       "</div>"
      ],
      "text/plain": [
       "  Unique Key   Created Date    Closed Date Agency  \\\n",
       "0   26589651  10/31/13 2:08            NaN   NYPD   \n",
       "1   26593698  10/31/13 2:01            NaN   NYPD   \n",
       "2   26594139  10/31/13 2:00  10/31/13 2:40   NYPD   \n",
       "3   26595721  10/31/13 1:56  10/31/13 2:21   NYPD   \n",
       "4   26590930  10/31/13 1:53            NaN  DOHMH   \n",
       "\n",
       "                               Agency Name           Complaint Type  \\\n",
       "0          New York City Police Department  Noise - Street/Sidewalk   \n",
       "1          New York City Police Department          Illegal Parking   \n",
       "2          New York City Police Department       Noise - Commercial   \n",
       "3          New York City Police Department          Noise - Vehicle   \n",
       "4  Department of Health and Mental Hygiene                   Rodent   \n",
       "\n",
       "                     Descriptor        Location Type Incident Zip  \\\n",
       "0                  Loud Talking      Street/Sidewalk        11432   \n",
       "1  Commercial Overnight Parking      Street/Sidewalk        11378   \n",
       "2              Loud Music/Party  Club/Bar/Restaurant        10032   \n",
       "3                Car/Truck Horn      Street/Sidewalk        10023   \n",
       "4  Condition Attracting Rodents           Vacant Lot        10027   \n",
       "\n",
       "   Incident Address  ... Bridge Highway Name Bridge Highway Direction  \\\n",
       "0  90-03 169 STREET  ...                 NaN                      NaN   \n",
       "1         58 AVENUE  ...                 NaN                      NaN   \n",
       "2     4060 BROADWAY  ...                 NaN                      NaN   \n",
       "3    WEST 72 STREET  ...                 NaN                      NaN   \n",
       "4   WEST 124 STREET  ...                 NaN                      NaN   \n",
       "\n",
       "  Road Ramp Bridge Highway Segment Garage Lot Name Ferry Direction  \\\n",
       "0       NaN                    NaN             NaN             NaN   \n",
       "1       NaN                    NaN             NaN             NaN   \n",
       "2       NaN                    NaN             NaN             NaN   \n",
       "3       NaN                    NaN             NaN             NaN   \n",
       "4       NaN                    NaN             NaN             NaN   \n",
       "\n",
       "  Ferry Terminal Name     Latitude     Longitude  \\\n",
       "0                 NaN  40.70827533  -73.79160396   \n",
       "1                 NaN  40.72104054  -73.90945307   \n",
       "2                 NaN  40.84332975  -73.93914372   \n",
       "3                 NaN  40.77800874  -73.98021349   \n",
       "4                 NaN  40.80769093  -73.94738703   \n",
       "\n",
       "                                   Location  \n",
       "0   (40.70827532593202, -73.79160395779721)  \n",
       "1  (40.721040535628305, -73.90945306791765)  \n",
       "2   (40.84332975466513, -73.93914371913482)  \n",
       "3    (40.7780087446372, -73.98021349023975)  \n",
       "4   (40.80769092704951, -73.94738703491433)  \n",
       "\n",
       "[5 rows x 52 columns]"
      ]
     },
     "execution_count": 3,
     "metadata": {},
     "output_type": "execute_result"
    }
   ],
   "source": [
    "complaints.head()"
   ]
  },
  {
   "cell_type": "code",
   "execution_count": 4,
   "id": "fb2a7605",
   "metadata": {},
   "outputs": [
    {
     "name": "stdout",
     "output_type": "stream",
     "text": [
      "<class 'pandas.core.frame.DataFrame'>\n",
      "RangeIndex: 111069 entries, 0 to 111068\n",
      "Data columns (total 52 columns):\n",
      " #   Column                          Non-Null Count   Dtype \n",
      "---  ------                          --------------   ----- \n",
      " 0   Unique Key                      111069 non-null  object\n",
      " 1   Created Date                    111069 non-null  object\n",
      " 2   Closed Date                     60270 non-null   object\n",
      " 3   Agency                          111069 non-null  object\n",
      " 4   Agency Name                     111069 non-null  object\n",
      " 5   Complaint Type                  111069 non-null  object\n",
      " 6   Descriptor                      110613 non-null  object\n",
      " 7   Location Type                   79022 non-null   object\n",
      " 8   Incident Zip                    98807 non-null   object\n",
      " 9   Incident Address                84441 non-null   object\n",
      " 10  Street Name                     84432 non-null   object\n",
      " 11  Cross Street 1                  84728 non-null   object\n",
      " 12  Cross Street 2                  84005 non-null   object\n",
      " 13  Intersection Street 1           19364 non-null   object\n",
      " 14  Intersection Street 2           19366 non-null   object\n",
      " 15  Address Type                    102247 non-null  object\n",
      " 16  City                            98854 non-null   object\n",
      " 17  Landmark                        95 non-null      object\n",
      " 18  Facility Type                   19104 non-null   object\n",
      " 19  Status                          111069 non-null  object\n",
      " 20  Due Date                        39239 non-null   object\n",
      " 21  Resolution Action Updated Date  96507 non-null   object\n",
      " 22  Community Board                 111069 non-null  object\n",
      " 23  Borough                         111069 non-null  object\n",
      " 24  X Coordinate (State Plane)      98143 non-null   object\n",
      " 25  Y Coordinate (State Plane)      98143 non-null   object\n",
      " 26  Park Facility Name              111069 non-null  object\n",
      " 27  Park Borough                    111069 non-null  object\n",
      " 28  School Name                     111069 non-null  object\n",
      " 29  School Number                   111048 non-null  object\n",
      " 30  School Region                   110524 non-null  object\n",
      " 31  School Code                     110524 non-null  object\n",
      " 32  School Phone Number             111069 non-null  object\n",
      " 33  School Address                  111069 non-null  object\n",
      " 34  School City                     111069 non-null  object\n",
      " 35  School State                    111069 non-null  object\n",
      " 36  School Zip                      111069 non-null  object\n",
      " 37  School Not Found                38984 non-null   object\n",
      " 38  School or Citywide Complaint    0 non-null       object\n",
      " 39  Vehicle Type                    99 non-null      object\n",
      " 40  Taxi Company Borough            117 non-null     object\n",
      " 41  Taxi Pick Up Location           1059 non-null    object\n",
      " 42  Bridge Highway Name             185 non-null     object\n",
      " 43  Bridge Highway Direction        185 non-null     object\n",
      " 44  Road Ramp                       180 non-null     object\n",
      " 45  Bridge Highway Segment          219 non-null     object\n",
      " 46  Garage Lot Name                 49 non-null      object\n",
      " 47  Ferry Direction                 24 non-null      object\n",
      " 48  Ferry Terminal Name             70 non-null      object\n",
      " 49  Latitude                        98143 non-null   object\n",
      " 50  Longitude                       98143 non-null   object\n",
      " 51  Location                        98143 non-null   object\n",
      "dtypes: object(52)\n",
      "memory usage: 44.1+ MB\n"
     ]
    }
   ],
   "source": [
    "complaints.info()"
   ]
  },
  {
   "cell_type": "code",
   "execution_count": 5,
   "id": "143afebf",
   "metadata": {},
   "outputs": [
    {
     "data": {
      "text/plain": [
       "Index(['Unique Key', 'Created Date', 'Closed Date', 'Agency', 'Agency Name',\n",
       "       'Complaint Type', 'Descriptor', 'Location Type', 'Incident Zip',\n",
       "       'Incident Address', 'Street Name', 'Cross Street 1', 'Cross Street 2',\n",
       "       'Intersection Street 1', 'Intersection Street 2', 'Address Type',\n",
       "       'City', 'Landmark', 'Facility Type', 'Status', 'Due Date',\n",
       "       'Resolution Action Updated Date', 'Community Board', 'Borough',\n",
       "       'X Coordinate (State Plane)', 'Y Coordinate (State Plane)',\n",
       "       'Park Facility Name', 'Park Borough', 'School Name', 'School Number',\n",
       "       'School Region', 'School Code', 'School Phone Number', 'School Address',\n",
       "       'School City', 'School State', 'School Zip', 'School Not Found',\n",
       "       'School or Citywide Complaint', 'Vehicle Type', 'Taxi Company Borough',\n",
       "       'Taxi Pick Up Location', 'Bridge Highway Name',\n",
       "       'Bridge Highway Direction', 'Road Ramp', 'Bridge Highway Segment',\n",
       "       'Garage Lot Name', 'Ferry Direction', 'Ferry Terminal Name', 'Latitude',\n",
       "       'Longitude', 'Location'],\n",
       "      dtype='object')"
      ]
     },
     "execution_count": 5,
     "metadata": {},
     "output_type": "execute_result"
    }
   ],
   "source": [
    "complaints.columns"
   ]
  },
  {
   "cell_type": "code",
   "execution_count": 6,
   "id": "97767c0a",
   "metadata": {},
   "outputs": [
    {
     "data": {
      "text/html": [
       "<div>\n",
       "<style scoped>\n",
       "    .dataframe tbody tr th:only-of-type {\n",
       "        vertical-align: middle;\n",
       "    }\n",
       "\n",
       "    .dataframe tbody tr th {\n",
       "        vertical-align: top;\n",
       "    }\n",
       "\n",
       "    .dataframe thead th {\n",
       "        text-align: right;\n",
       "    }\n",
       "</style>\n",
       "<table border=\"1\" class=\"dataframe\">\n",
       "  <thead>\n",
       "    <tr style=\"text-align: right;\">\n",
       "      <th></th>\n",
       "      <th>Unique Key</th>\n",
       "      <th>Created Date</th>\n",
       "      <th>Closed Date</th>\n",
       "      <th>Agency</th>\n",
       "      <th>Agency Name</th>\n",
       "      <th>Complaint Type</th>\n",
       "      <th>Descriptor</th>\n",
       "      <th>Location Type</th>\n",
       "      <th>Incident Zip</th>\n",
       "      <th>Incident Address</th>\n",
       "      <th>...</th>\n",
       "      <th>Bridge Highway Name</th>\n",
       "      <th>Bridge Highway Direction</th>\n",
       "      <th>Road Ramp</th>\n",
       "      <th>Bridge Highway Segment</th>\n",
       "      <th>Garage Lot Name</th>\n",
       "      <th>Ferry Direction</th>\n",
       "      <th>Ferry Terminal Name</th>\n",
       "      <th>Latitude</th>\n",
       "      <th>Longitude</th>\n",
       "      <th>Location</th>\n",
       "    </tr>\n",
       "  </thead>\n",
       "  <tbody>\n",
       "    <tr>\n",
       "      <th>107003</th>\n",
       "      <td>26441533</td>\n",
       "      <td>10/5/13 5:50</td>\n",
       "      <td>10/5/13 7:13</td>\n",
       "      <td>NYPD</td>\n",
       "      <td>New York City Police Department</td>\n",
       "      <td>Illegal Parking</td>\n",
       "      <td>Double Parked Blocking Traffic</td>\n",
       "      <td>Street/Sidewalk</td>\n",
       "      <td>11420</td>\n",
       "      <td>129-50 150 AVENUE</td>\n",
       "      <td>...</td>\n",
       "      <td>NaN</td>\n",
       "      <td>NaN</td>\n",
       "      <td>NaN</td>\n",
       "      <td>NaN</td>\n",
       "      <td>NaN</td>\n",
       "      <td>NaN</td>\n",
       "      <td>NaN</td>\n",
       "      <td>40.66499972</td>\n",
       "      <td>-73.81145976</td>\n",
       "      <td>(40.66499971989459, -73.8114597580813)</td>\n",
       "    </tr>\n",
       "    <tr>\n",
       "      <th>99767</th>\n",
       "      <td>26449864</td>\n",
       "      <td>10/7/13 14:50</td>\n",
       "      <td>10/4/13 22:40</td>\n",
       "      <td>DOT</td>\n",
       "      <td>Department of Transportation</td>\n",
       "      <td>Street Light Condition</td>\n",
       "      <td>Street Light Out</td>\n",
       "      <td>NaN</td>\n",
       "      <td>NaN</td>\n",
       "      <td>NaN</td>\n",
       "      <td>...</td>\n",
       "      <td>NaN</td>\n",
       "      <td>NaN</td>\n",
       "      <td>NaN</td>\n",
       "      <td>NaN</td>\n",
       "      <td>NaN</td>\n",
       "      <td>NaN</td>\n",
       "      <td>NaN</td>\n",
       "      <td>NaN</td>\n",
       "      <td>NaN</td>\n",
       "      <td>NaN</td>\n",
       "    </tr>\n",
       "    <tr>\n",
       "      <th>22547</th>\n",
       "      <td>26558716</td>\n",
       "      <td>10/25/13 23:22</td>\n",
       "      <td>10/26/13 0:35</td>\n",
       "      <td>DOT</td>\n",
       "      <td>Department of Transportation</td>\n",
       "      <td>Traffic Signal Condition</td>\n",
       "      <td>Ped Multiple Lamps</td>\n",
       "      <td>NaN</td>\n",
       "      <td>11219</td>\n",
       "      <td>NaN</td>\n",
       "      <td>...</td>\n",
       "      <td>NaN</td>\n",
       "      <td>NaN</td>\n",
       "      <td>NaN</td>\n",
       "      <td>NaN</td>\n",
       "      <td>NaN</td>\n",
       "      <td>NaN</td>\n",
       "      <td>NaN</td>\n",
       "      <td>40.62864296</td>\n",
       "      <td>-74.00592627</td>\n",
       "      <td>(40.628642957998856, -74.00592627047388)</td>\n",
       "    </tr>\n",
       "    <tr>\n",
       "      <th>64418</th>\n",
       "      <td>26506143</td>\n",
       "      <td>10/17/13 0:00</td>\n",
       "      <td>NaN</td>\n",
       "      <td>HPD</td>\n",
       "      <td>Department of Housing Preservation and Develop...</td>\n",
       "      <td>NONCONST</td>\n",
       "      <td>VERMIN</td>\n",
       "      <td>RESIDENTIAL BUILDING</td>\n",
       "      <td>10460</td>\n",
       "      <td>1890 CROTONA PARKWAY</td>\n",
       "      <td>...</td>\n",
       "      <td>NaN</td>\n",
       "      <td>NaN</td>\n",
       "      <td>NaN</td>\n",
       "      <td>NaN</td>\n",
       "      <td>NaN</td>\n",
       "      <td>NaN</td>\n",
       "      <td>NaN</td>\n",
       "      <td>40.84082709</td>\n",
       "      <td>-73.88562136</td>\n",
       "      <td>(40.84082709430754, -73.88562136152653)</td>\n",
       "    </tr>\n",
       "    <tr>\n",
       "      <th>67229</th>\n",
       "      <td>26495141</td>\n",
       "      <td>10/16/13 10:10</td>\n",
       "      <td>NaN</td>\n",
       "      <td>DEP</td>\n",
       "      <td>Department of Environmental Protection</td>\n",
       "      <td>Noise</td>\n",
       "      <td>Noise: Construction Before/After Hours (NM1)</td>\n",
       "      <td>NaN</td>\n",
       "      <td>11234</td>\n",
       "      <td>2082 EAST 57 STREET</td>\n",
       "      <td>...</td>\n",
       "      <td>NaN</td>\n",
       "      <td>NaN</td>\n",
       "      <td>NaN</td>\n",
       "      <td>NaN</td>\n",
       "      <td>NaN</td>\n",
       "      <td>NaN</td>\n",
       "      <td>NaN</td>\n",
       "      <td>40.61348186</td>\n",
       "      <td>-73.91804874</td>\n",
       "      <td>(40.61348186159486, -73.91804873724573)</td>\n",
       "    </tr>\n",
       "  </tbody>\n",
       "</table>\n",
       "<p>5 rows × 52 columns</p>\n",
       "</div>"
      ],
      "text/plain": [
       "       Unique Key    Created Date    Closed Date Agency  \\\n",
       "107003   26441533    10/5/13 5:50   10/5/13 7:13   NYPD   \n",
       "99767    26449864   10/7/13 14:50  10/4/13 22:40    DOT   \n",
       "22547    26558716  10/25/13 23:22  10/26/13 0:35    DOT   \n",
       "64418    26506143   10/17/13 0:00            NaN    HPD   \n",
       "67229    26495141  10/16/13 10:10            NaN    DEP   \n",
       "\n",
       "                                              Agency Name  \\\n",
       "107003                    New York City Police Department   \n",
       "99767                        Department of Transportation   \n",
       "22547                        Department of Transportation   \n",
       "64418   Department of Housing Preservation and Develop...   \n",
       "67229              Department of Environmental Protection   \n",
       "\n",
       "                  Complaint Type  \\\n",
       "107003           Illegal Parking   \n",
       "99767     Street Light Condition   \n",
       "22547   Traffic Signal Condition   \n",
       "64418                   NONCONST   \n",
       "67229                      Noise   \n",
       "\n",
       "                                          Descriptor         Location Type  \\\n",
       "107003                Double Parked Blocking Traffic       Street/Sidewalk   \n",
       "99767                               Street Light Out                   NaN   \n",
       "22547                             Ped Multiple Lamps                   NaN   \n",
       "64418                                         VERMIN  RESIDENTIAL BUILDING   \n",
       "67229   Noise: Construction Before/After Hours (NM1)                   NaN   \n",
       "\n",
       "       Incident Zip      Incident Address  ... Bridge Highway Name  \\\n",
       "107003        11420     129-50 150 AVENUE  ...                 NaN   \n",
       "99767           NaN                   NaN  ...                 NaN   \n",
       "22547         11219                   NaN  ...                 NaN   \n",
       "64418         10460  1890 CROTONA PARKWAY  ...                 NaN   \n",
       "67229         11234   2082 EAST 57 STREET  ...                 NaN   \n",
       "\n",
       "       Bridge Highway Direction Road Ramp Bridge Highway Segment  \\\n",
       "107003                      NaN       NaN                    NaN   \n",
       "99767                       NaN       NaN                    NaN   \n",
       "22547                       NaN       NaN                    NaN   \n",
       "64418                       NaN       NaN                    NaN   \n",
       "67229                       NaN       NaN                    NaN   \n",
       "\n",
       "       Garage Lot Name Ferry Direction Ferry Terminal Name     Latitude  \\\n",
       "107003             NaN             NaN                 NaN  40.66499972   \n",
       "99767              NaN             NaN                 NaN          NaN   \n",
       "22547              NaN             NaN                 NaN  40.62864296   \n",
       "64418              NaN             NaN                 NaN  40.84082709   \n",
       "67229              NaN             NaN                 NaN  40.61348186   \n",
       "\n",
       "           Longitude                                  Location  \n",
       "107003  -73.81145976    (40.66499971989459, -73.8114597580813)  \n",
       "99767            NaN                                       NaN  \n",
       "22547   -74.00592627  (40.628642957998856, -74.00592627047388)  \n",
       "64418   -73.88562136   (40.84082709430754, -73.88562136152653)  \n",
       "67229   -73.91804874   (40.61348186159486, -73.91804873724573)  \n",
       "\n",
       "[5 rows x 52 columns]"
      ]
     },
     "execution_count": 6,
     "metadata": {},
     "output_type": "execute_result"
    }
   ],
   "source": [
    "complaints.sample(5)"
   ]
  },
  {
   "cell_type": "code",
   "execution_count": 7,
   "id": "17f803e3",
   "metadata": {},
   "outputs": [
    {
     "data": {
      "text/html": [
       "<div>\n",
       "<style scoped>\n",
       "    .dataframe tbody tr th:only-of-type {\n",
       "        vertical-align: middle;\n",
       "    }\n",
       "\n",
       "    .dataframe tbody tr th {\n",
       "        vertical-align: top;\n",
       "    }\n",
       "\n",
       "    .dataframe thead th {\n",
       "        text-align: right;\n",
       "    }\n",
       "</style>\n",
       "<table border=\"1\" class=\"dataframe\">\n",
       "  <thead>\n",
       "    <tr style=\"text-align: right;\">\n",
       "      <th></th>\n",
       "      <th>Unique Key</th>\n",
       "      <th>Created Date</th>\n",
       "      <th>Closed Date</th>\n",
       "      <th>Agency</th>\n",
       "      <th>Agency Name</th>\n",
       "      <th>Complaint Type</th>\n",
       "      <th>Descriptor</th>\n",
       "      <th>Location Type</th>\n",
       "      <th>Incident Zip</th>\n",
       "      <th>Incident Address</th>\n",
       "      <th>...</th>\n",
       "      <th>Bridge Highway Name</th>\n",
       "      <th>Bridge Highway Direction</th>\n",
       "      <th>Road Ramp</th>\n",
       "      <th>Bridge Highway Segment</th>\n",
       "      <th>Garage Lot Name</th>\n",
       "      <th>Ferry Direction</th>\n",
       "      <th>Ferry Terminal Name</th>\n",
       "      <th>Latitude</th>\n",
       "      <th>Longitude</th>\n",
       "      <th>Location</th>\n",
       "    </tr>\n",
       "  </thead>\n",
       "  <tbody>\n",
       "    <tr>\n",
       "      <th>count</th>\n",
       "      <td>111069</td>\n",
       "      <td>111069</td>\n",
       "      <td>60270</td>\n",
       "      <td>111069</td>\n",
       "      <td>111069</td>\n",
       "      <td>111069</td>\n",
       "      <td>110613</td>\n",
       "      <td>79022</td>\n",
       "      <td>98807</td>\n",
       "      <td>84441</td>\n",
       "      <td>...</td>\n",
       "      <td>185</td>\n",
       "      <td>185</td>\n",
       "      <td>180</td>\n",
       "      <td>219</td>\n",
       "      <td>49</td>\n",
       "      <td>24</td>\n",
       "      <td>70</td>\n",
       "      <td>98143</td>\n",
       "      <td>98143</td>\n",
       "      <td>98143</td>\n",
       "    </tr>\n",
       "    <tr>\n",
       "      <th>unique</th>\n",
       "      <td>111069</td>\n",
       "      <td>26611</td>\n",
       "      <td>19819</td>\n",
       "      <td>26</td>\n",
       "      <td>135</td>\n",
       "      <td>165</td>\n",
       "      <td>788</td>\n",
       "      <td>90</td>\n",
       "      <td>247</td>\n",
       "      <td>41189</td>\n",
       "      <td>...</td>\n",
       "      <td>37</td>\n",
       "      <td>38</td>\n",
       "      <td>2</td>\n",
       "      <td>160</td>\n",
       "      <td>17</td>\n",
       "      <td>2</td>\n",
       "      <td>39</td>\n",
       "      <td>50417</td>\n",
       "      <td>50422</td>\n",
       "      <td>50653</td>\n",
       "    </tr>\n",
       "    <tr>\n",
       "      <th>top</th>\n",
       "      <td>26589651</td>\n",
       "      <td>10/24/13 0:00</td>\n",
       "      <td>10/28/13 0:00</td>\n",
       "      <td>HPD</td>\n",
       "      <td>Department of Housing Preservation and Develop...</td>\n",
       "      <td>HEATING</td>\n",
       "      <td>HEAT</td>\n",
       "      <td>RESIDENTIAL BUILDING</td>\n",
       "      <td>11226</td>\n",
       "      <td>130 AUDUBON AVENUE</td>\n",
       "      <td>...</td>\n",
       "      <td>BQE/Gowanus Expwy</td>\n",
       "      <td>East/Long Island Bound</td>\n",
       "      <td>Roadway</td>\n",
       "      <td>Roadway</td>\n",
       "      <td>Flushing #1 Field</td>\n",
       "      <td>Staten Island Bound</td>\n",
       "      <td>Unknown</td>\n",
       "      <td>40.84270816</td>\n",
       "      <td>-73.93675169</td>\n",
       "      <td>(40.842708163812766, -73.93675169432969)</td>\n",
       "    </tr>\n",
       "    <tr>\n",
       "      <th>freq</th>\n",
       "      <td>1</td>\n",
       "      <td>3660</td>\n",
       "      <td>1360</td>\n",
       "      <td>39067</td>\n",
       "      <td>39067</td>\n",
       "      <td>14200</td>\n",
       "      <td>14126</td>\n",
       "      <td>39067</td>\n",
       "      <td>1996</td>\n",
       "      <td>120</td>\n",
       "      <td>...</td>\n",
       "      <td>24</td>\n",
       "      <td>22</td>\n",
       "      <td>127</td>\n",
       "      <td>11</td>\n",
       "      <td>12</td>\n",
       "      <td>13</td>\n",
       "      <td>14</td>\n",
       "      <td>120</td>\n",
       "      <td>120</td>\n",
       "      <td>120</td>\n",
       "    </tr>\n",
       "  </tbody>\n",
       "</table>\n",
       "<p>4 rows × 52 columns</p>\n",
       "</div>"
      ],
      "text/plain": [
       "       Unique Key   Created Date    Closed Date  Agency  \\\n",
       "count      111069         111069          60270  111069   \n",
       "unique     111069          26611          19819      26   \n",
       "top      26589651  10/24/13 0:00  10/28/13 0:00     HPD   \n",
       "freq            1           3660           1360   39067   \n",
       "\n",
       "                                              Agency Name Complaint Type  \\\n",
       "count                                              111069         111069   \n",
       "unique                                                135            165   \n",
       "top     Department of Housing Preservation and Develop...        HEATING   \n",
       "freq                                                39067          14200   \n",
       "\n",
       "       Descriptor         Location Type Incident Zip    Incident Address  ...  \\\n",
       "count      110613                 79022        98807               84441  ...   \n",
       "unique        788                    90          247               41189  ...   \n",
       "top          HEAT  RESIDENTIAL BUILDING        11226  130 AUDUBON AVENUE  ...   \n",
       "freq        14126                 39067         1996                 120  ...   \n",
       "\n",
       "       Bridge Highway Name Bridge Highway Direction Road Ramp  \\\n",
       "count                  185                      185       180   \n",
       "unique                  37                       38         2   \n",
       "top      BQE/Gowanus Expwy   East/Long Island Bound   Roadway   \n",
       "freq                    24                       22       127   \n",
       "\n",
       "       Bridge Highway Segment    Garage Lot Name      Ferry Direction  \\\n",
       "count                     219                 49                   24   \n",
       "unique                    160                 17                    2   \n",
       "top                   Roadway  Flushing #1 Field  Staten Island Bound   \n",
       "freq                       11                 12                   13   \n",
       "\n",
       "       Ferry Terminal Name     Latitude     Longitude  \\\n",
       "count                   70        98143         98143   \n",
       "unique                  39        50417         50422   \n",
       "top                Unknown  40.84270816  -73.93675169   \n",
       "freq                    14          120           120   \n",
       "\n",
       "                                        Location  \n",
       "count                                      98143  \n",
       "unique                                     50653  \n",
       "top     (40.842708163812766, -73.93675169432969)  \n",
       "freq                                         120  \n",
       "\n",
       "[4 rows x 52 columns]"
      ]
     },
     "execution_count": 7,
     "metadata": {},
     "output_type": "execute_result"
    }
   ],
   "source": [
    "complaints.describe()"
   ]
  },
  {
   "cell_type": "markdown",
   "id": "6a327e7b",
   "metadata": {},
   "source": [
    "### spaces in column names are replaced with ‘_’\n",
    "complaints.columns =[column.replace(\" \", \"_\") \n",
    "                     for column in complaints.columns]"
   ]
  },
  {
   "cell_type": "code",
   "execution_count": 8,
   "id": "fa1bac92",
   "metadata": {},
   "outputs": [],
   "source": [
    "complaints.columns =[column.replace(\" \", \"_\") \n",
    "                     for column in complaints.columns]"
   ]
  },
  {
   "cell_type": "code",
   "execution_count": 9,
   "id": "ab72c888",
   "metadata": {},
   "outputs": [
    {
     "data": {
      "text/html": [
       "<div>\n",
       "<style scoped>\n",
       "    .dataframe tbody tr th:only-of-type {\n",
       "        vertical-align: middle;\n",
       "    }\n",
       "\n",
       "    .dataframe tbody tr th {\n",
       "        vertical-align: top;\n",
       "    }\n",
       "\n",
       "    .dataframe thead th {\n",
       "        text-align: right;\n",
       "    }\n",
       "</style>\n",
       "<table border=\"1\" class=\"dataframe\">\n",
       "  <thead>\n",
       "    <tr style=\"text-align: right;\">\n",
       "      <th></th>\n",
       "      <th>Unique_Key</th>\n",
       "      <th>Created_Date</th>\n",
       "      <th>Closed_Date</th>\n",
       "      <th>Agency</th>\n",
       "      <th>Agency_Name</th>\n",
       "      <th>Complaint_Type</th>\n",
       "      <th>Descriptor</th>\n",
       "      <th>Location_Type</th>\n",
       "      <th>Incident_Zip</th>\n",
       "      <th>Incident_Address</th>\n",
       "      <th>...</th>\n",
       "      <th>Bridge_Highway_Name</th>\n",
       "      <th>Bridge_Highway_Direction</th>\n",
       "      <th>Road_Ramp</th>\n",
       "      <th>Bridge_Highway_Segment</th>\n",
       "      <th>Garage_Lot_Name</th>\n",
       "      <th>Ferry_Direction</th>\n",
       "      <th>Ferry_Terminal_Name</th>\n",
       "      <th>Latitude</th>\n",
       "      <th>Longitude</th>\n",
       "      <th>Location</th>\n",
       "    </tr>\n",
       "  </thead>\n",
       "  <tbody>\n",
       "    <tr>\n",
       "      <th>0</th>\n",
       "      <td>26589651</td>\n",
       "      <td>10/31/13 2:08</td>\n",
       "      <td>NaN</td>\n",
       "      <td>NYPD</td>\n",
       "      <td>New York City Police Department</td>\n",
       "      <td>Noise - Street/Sidewalk</td>\n",
       "      <td>Loud Talking</td>\n",
       "      <td>Street/Sidewalk</td>\n",
       "      <td>11432</td>\n",
       "      <td>90-03 169 STREET</td>\n",
       "      <td>...</td>\n",
       "      <td>NaN</td>\n",
       "      <td>NaN</td>\n",
       "      <td>NaN</td>\n",
       "      <td>NaN</td>\n",
       "      <td>NaN</td>\n",
       "      <td>NaN</td>\n",
       "      <td>NaN</td>\n",
       "      <td>40.70827533</td>\n",
       "      <td>-73.79160396</td>\n",
       "      <td>(40.70827532593202, -73.79160395779721)</td>\n",
       "    </tr>\n",
       "    <tr>\n",
       "      <th>1</th>\n",
       "      <td>26593698</td>\n",
       "      <td>10/31/13 2:01</td>\n",
       "      <td>NaN</td>\n",
       "      <td>NYPD</td>\n",
       "      <td>New York City Police Department</td>\n",
       "      <td>Illegal Parking</td>\n",
       "      <td>Commercial Overnight Parking</td>\n",
       "      <td>Street/Sidewalk</td>\n",
       "      <td>11378</td>\n",
       "      <td>58 AVENUE</td>\n",
       "      <td>...</td>\n",
       "      <td>NaN</td>\n",
       "      <td>NaN</td>\n",
       "      <td>NaN</td>\n",
       "      <td>NaN</td>\n",
       "      <td>NaN</td>\n",
       "      <td>NaN</td>\n",
       "      <td>NaN</td>\n",
       "      <td>40.72104054</td>\n",
       "      <td>-73.90945307</td>\n",
       "      <td>(40.721040535628305, -73.90945306791765)</td>\n",
       "    </tr>\n",
       "    <tr>\n",
       "      <th>2</th>\n",
       "      <td>26594139</td>\n",
       "      <td>10/31/13 2:00</td>\n",
       "      <td>10/31/13 2:40</td>\n",
       "      <td>NYPD</td>\n",
       "      <td>New York City Police Department</td>\n",
       "      <td>Noise - Commercial</td>\n",
       "      <td>Loud Music/Party</td>\n",
       "      <td>Club/Bar/Restaurant</td>\n",
       "      <td>10032</td>\n",
       "      <td>4060 BROADWAY</td>\n",
       "      <td>...</td>\n",
       "      <td>NaN</td>\n",
       "      <td>NaN</td>\n",
       "      <td>NaN</td>\n",
       "      <td>NaN</td>\n",
       "      <td>NaN</td>\n",
       "      <td>NaN</td>\n",
       "      <td>NaN</td>\n",
       "      <td>40.84332975</td>\n",
       "      <td>-73.93914372</td>\n",
       "      <td>(40.84332975466513, -73.93914371913482)</td>\n",
       "    </tr>\n",
       "    <tr>\n",
       "      <th>3</th>\n",
       "      <td>26595721</td>\n",
       "      <td>10/31/13 1:56</td>\n",
       "      <td>10/31/13 2:21</td>\n",
       "      <td>NYPD</td>\n",
       "      <td>New York City Police Department</td>\n",
       "      <td>Noise - Vehicle</td>\n",
       "      <td>Car/Truck Horn</td>\n",
       "      <td>Street/Sidewalk</td>\n",
       "      <td>10023</td>\n",
       "      <td>WEST 72 STREET</td>\n",
       "      <td>...</td>\n",
       "      <td>NaN</td>\n",
       "      <td>NaN</td>\n",
       "      <td>NaN</td>\n",
       "      <td>NaN</td>\n",
       "      <td>NaN</td>\n",
       "      <td>NaN</td>\n",
       "      <td>NaN</td>\n",
       "      <td>40.77800874</td>\n",
       "      <td>-73.98021349</td>\n",
       "      <td>(40.7780087446372, -73.98021349023975)</td>\n",
       "    </tr>\n",
       "    <tr>\n",
       "      <th>4</th>\n",
       "      <td>26590930</td>\n",
       "      <td>10/31/13 1:53</td>\n",
       "      <td>NaN</td>\n",
       "      <td>DOHMH</td>\n",
       "      <td>Department of Health and Mental Hygiene</td>\n",
       "      <td>Rodent</td>\n",
       "      <td>Condition Attracting Rodents</td>\n",
       "      <td>Vacant Lot</td>\n",
       "      <td>10027</td>\n",
       "      <td>WEST 124 STREET</td>\n",
       "      <td>...</td>\n",
       "      <td>NaN</td>\n",
       "      <td>NaN</td>\n",
       "      <td>NaN</td>\n",
       "      <td>NaN</td>\n",
       "      <td>NaN</td>\n",
       "      <td>NaN</td>\n",
       "      <td>NaN</td>\n",
       "      <td>40.80769093</td>\n",
       "      <td>-73.94738703</td>\n",
       "      <td>(40.80769092704951, -73.94738703491433)</td>\n",
       "    </tr>\n",
       "  </tbody>\n",
       "</table>\n",
       "<p>5 rows × 52 columns</p>\n",
       "</div>"
      ],
      "text/plain": [
       "  Unique_Key   Created_Date    Closed_Date Agency  \\\n",
       "0   26589651  10/31/13 2:08            NaN   NYPD   \n",
       "1   26593698  10/31/13 2:01            NaN   NYPD   \n",
       "2   26594139  10/31/13 2:00  10/31/13 2:40   NYPD   \n",
       "3   26595721  10/31/13 1:56  10/31/13 2:21   NYPD   \n",
       "4   26590930  10/31/13 1:53            NaN  DOHMH   \n",
       "\n",
       "                               Agency_Name           Complaint_Type  \\\n",
       "0          New York City Police Department  Noise - Street/Sidewalk   \n",
       "1          New York City Police Department          Illegal Parking   \n",
       "2          New York City Police Department       Noise - Commercial   \n",
       "3          New York City Police Department          Noise - Vehicle   \n",
       "4  Department of Health and Mental Hygiene                   Rodent   \n",
       "\n",
       "                     Descriptor        Location_Type Incident_Zip  \\\n",
       "0                  Loud Talking      Street/Sidewalk        11432   \n",
       "1  Commercial Overnight Parking      Street/Sidewalk        11378   \n",
       "2              Loud Music/Party  Club/Bar/Restaurant        10032   \n",
       "3                Car/Truck Horn      Street/Sidewalk        10023   \n",
       "4  Condition Attracting Rodents           Vacant Lot        10027   \n",
       "\n",
       "   Incident_Address  ... Bridge_Highway_Name Bridge_Highway_Direction  \\\n",
       "0  90-03 169 STREET  ...                 NaN                      NaN   \n",
       "1         58 AVENUE  ...                 NaN                      NaN   \n",
       "2     4060 BROADWAY  ...                 NaN                      NaN   \n",
       "3    WEST 72 STREET  ...                 NaN                      NaN   \n",
       "4   WEST 124 STREET  ...                 NaN                      NaN   \n",
       "\n",
       "  Road_Ramp Bridge_Highway_Segment Garage_Lot_Name Ferry_Direction  \\\n",
       "0       NaN                    NaN             NaN             NaN   \n",
       "1       NaN                    NaN             NaN             NaN   \n",
       "2       NaN                    NaN             NaN             NaN   \n",
       "3       NaN                    NaN             NaN             NaN   \n",
       "4       NaN                    NaN             NaN             NaN   \n",
       "\n",
       "  Ferry_Terminal_Name     Latitude     Longitude  \\\n",
       "0                 NaN  40.70827533  -73.79160396   \n",
       "1                 NaN  40.72104054  -73.90945307   \n",
       "2                 NaN  40.84332975  -73.93914372   \n",
       "3                 NaN  40.77800874  -73.98021349   \n",
       "4                 NaN  40.80769093  -73.94738703   \n",
       "\n",
       "                                   Location  \n",
       "0   (40.70827532593202, -73.79160395779721)  \n",
       "1  (40.721040535628305, -73.90945306791765)  \n",
       "2   (40.84332975466513, -73.93914371913482)  \n",
       "3    (40.7780087446372, -73.98021349023975)  \n",
       "4   (40.80769092704951, -73.94738703491433)  \n",
       "\n",
       "[5 rows x 52 columns]"
      ]
     },
     "execution_count": 9,
     "metadata": {},
     "output_type": "execute_result"
    }
   ],
   "source": [
    "complaints.head()"
   ]
  },
  {
   "cell_type": "markdown",
   "id": "11b85e04",
   "metadata": {},
   "source": [
    "### 3. Which month and year the complains received?\n"
   ]
  },
  {
   "cell_type": "markdown",
   "id": "9122bbbe",
   "metadata": {},
   "source": [
    "All recieved in october of 2013. "
   ]
  },
  {
   "cell_type": "code",
   "execution_count": 10,
   "id": "9d422479",
   "metadata": {},
   "outputs": [],
   "source": [
    "# year\n",
    "complaints['Created_Date']=pd.to_datetime(complaints['Created_Date'])\n",
    "complaints['Year']=complaints['Created_Date'].dt.year"
   ]
  },
  {
   "cell_type": "code",
   "execution_count": 11,
   "id": "b78b9ec8",
   "metadata": {},
   "outputs": [
    {
     "data": {
      "text/html": [
       "<div>\n",
       "<style scoped>\n",
       "    .dataframe tbody tr th:only-of-type {\n",
       "        vertical-align: middle;\n",
       "    }\n",
       "\n",
       "    .dataframe tbody tr th {\n",
       "        vertical-align: top;\n",
       "    }\n",
       "\n",
       "    .dataframe thead th {\n",
       "        text-align: right;\n",
       "    }\n",
       "</style>\n",
       "<table border=\"1\" class=\"dataframe\">\n",
       "  <thead>\n",
       "    <tr style=\"text-align: right;\">\n",
       "      <th></th>\n",
       "      <th>Unique_Key</th>\n",
       "      <th>Created_Date</th>\n",
       "      <th>Closed_Date</th>\n",
       "      <th>Agency</th>\n",
       "      <th>Agency_Name</th>\n",
       "      <th>Complaint_Type</th>\n",
       "      <th>Descriptor</th>\n",
       "      <th>Location_Type</th>\n",
       "      <th>Incident_Zip</th>\n",
       "      <th>Incident_Address</th>\n",
       "      <th>...</th>\n",
       "      <th>Bridge_Highway_Direction</th>\n",
       "      <th>Road_Ramp</th>\n",
       "      <th>Bridge_Highway_Segment</th>\n",
       "      <th>Garage_Lot_Name</th>\n",
       "      <th>Ferry_Direction</th>\n",
       "      <th>Ferry_Terminal_Name</th>\n",
       "      <th>Latitude</th>\n",
       "      <th>Longitude</th>\n",
       "      <th>Location</th>\n",
       "      <th>Year</th>\n",
       "    </tr>\n",
       "  </thead>\n",
       "  <tbody>\n",
       "    <tr>\n",
       "      <th>0</th>\n",
       "      <td>26589651</td>\n",
       "      <td>2013-10-31 02:08:00</td>\n",
       "      <td>NaN</td>\n",
       "      <td>NYPD</td>\n",
       "      <td>New York City Police Department</td>\n",
       "      <td>Noise - Street/Sidewalk</td>\n",
       "      <td>Loud Talking</td>\n",
       "      <td>Street/Sidewalk</td>\n",
       "      <td>11432</td>\n",
       "      <td>90-03 169 STREET</td>\n",
       "      <td>...</td>\n",
       "      <td>NaN</td>\n",
       "      <td>NaN</td>\n",
       "      <td>NaN</td>\n",
       "      <td>NaN</td>\n",
       "      <td>NaN</td>\n",
       "      <td>NaN</td>\n",
       "      <td>40.70827533</td>\n",
       "      <td>-73.79160396</td>\n",
       "      <td>(40.70827532593202, -73.79160395779721)</td>\n",
       "      <td>2013</td>\n",
       "    </tr>\n",
       "  </tbody>\n",
       "</table>\n",
       "<p>1 rows × 53 columns</p>\n",
       "</div>"
      ],
      "text/plain": [
       "  Unique_Key        Created_Date Closed_Date Agency  \\\n",
       "0   26589651 2013-10-31 02:08:00         NaN   NYPD   \n",
       "\n",
       "                       Agency_Name           Complaint_Type    Descriptor  \\\n",
       "0  New York City Police Department  Noise - Street/Sidewalk  Loud Talking   \n",
       "\n",
       "     Location_Type Incident_Zip  Incident_Address  ...  \\\n",
       "0  Street/Sidewalk        11432  90-03 169 STREET  ...   \n",
       "\n",
       "  Bridge_Highway_Direction Road_Ramp Bridge_Highway_Segment Garage_Lot_Name  \\\n",
       "0                      NaN       NaN                    NaN             NaN   \n",
       "\n",
       "  Ferry_Direction Ferry_Terminal_Name     Latitude     Longitude  \\\n",
       "0             NaN                 NaN  40.70827533  -73.79160396   \n",
       "\n",
       "                                  Location  Year  \n",
       "0  (40.70827532593202, -73.79160395779721)  2013  \n",
       "\n",
       "[1 rows x 53 columns]"
      ]
     },
     "execution_count": 11,
     "metadata": {},
     "output_type": "execute_result"
    }
   ],
   "source": [
    "complaints.head(1)"
   ]
  },
  {
   "cell_type": "code",
   "execution_count": 12,
   "id": "9b16739a",
   "metadata": {},
   "outputs": [
    {
     "data": {
      "text/plain": [
       "2013    111069\n",
       "Name: Year, dtype: int64"
      ]
     },
     "execution_count": 12,
     "metadata": {},
     "output_type": "execute_result"
    }
   ],
   "source": [
    "complaints['Year'].value_counts()"
   ]
  },
  {
   "cell_type": "code",
   "execution_count": 13,
   "id": "b1fa85c9",
   "metadata": {},
   "outputs": [
    {
     "data": {
      "text/html": [
       "<div>\n",
       "<style scoped>\n",
       "    .dataframe tbody tr th:only-of-type {\n",
       "        vertical-align: middle;\n",
       "    }\n",
       "\n",
       "    .dataframe tbody tr th {\n",
       "        vertical-align: top;\n",
       "    }\n",
       "\n",
       "    .dataframe thead th {\n",
       "        text-align: right;\n",
       "    }\n",
       "</style>\n",
       "<table border=\"1\" class=\"dataframe\">\n",
       "  <thead>\n",
       "    <tr style=\"text-align: right;\">\n",
       "      <th></th>\n",
       "      <th>Unique_Key</th>\n",
       "      <th>Created_Date</th>\n",
       "      <th>Closed_Date</th>\n",
       "      <th>Agency</th>\n",
       "      <th>Agency_Name</th>\n",
       "      <th>Complaint_Type</th>\n",
       "      <th>Descriptor</th>\n",
       "      <th>Location_Type</th>\n",
       "      <th>Incident_Zip</th>\n",
       "      <th>Incident_Address</th>\n",
       "      <th>...</th>\n",
       "      <th>Road_Ramp</th>\n",
       "      <th>Bridge_Highway_Segment</th>\n",
       "      <th>Garage_Lot_Name</th>\n",
       "      <th>Ferry_Direction</th>\n",
       "      <th>Ferry_Terminal_Name</th>\n",
       "      <th>Latitude</th>\n",
       "      <th>Longitude</th>\n",
       "      <th>Location</th>\n",
       "      <th>Year</th>\n",
       "      <th>Month</th>\n",
       "    </tr>\n",
       "  </thead>\n",
       "  <tbody>\n",
       "    <tr>\n",
       "      <th>0</th>\n",
       "      <td>26589651</td>\n",
       "      <td>2013-10-31 02:08:00</td>\n",
       "      <td>NaN</td>\n",
       "      <td>NYPD</td>\n",
       "      <td>New York City Police Department</td>\n",
       "      <td>Noise - Street/Sidewalk</td>\n",
       "      <td>Loud Talking</td>\n",
       "      <td>Street/Sidewalk</td>\n",
       "      <td>11432</td>\n",
       "      <td>90-03 169 STREET</td>\n",
       "      <td>...</td>\n",
       "      <td>NaN</td>\n",
       "      <td>NaN</td>\n",
       "      <td>NaN</td>\n",
       "      <td>NaN</td>\n",
       "      <td>NaN</td>\n",
       "      <td>40.70827533</td>\n",
       "      <td>-73.79160396</td>\n",
       "      <td>(40.70827532593202, -73.79160395779721)</td>\n",
       "      <td>2013</td>\n",
       "      <td>10</td>\n",
       "    </tr>\n",
       "  </tbody>\n",
       "</table>\n",
       "<p>1 rows × 54 columns</p>\n",
       "</div>"
      ],
      "text/plain": [
       "  Unique_Key        Created_Date Closed_Date Agency  \\\n",
       "0   26589651 2013-10-31 02:08:00         NaN   NYPD   \n",
       "\n",
       "                       Agency_Name           Complaint_Type    Descriptor  \\\n",
       "0  New York City Police Department  Noise - Street/Sidewalk  Loud Talking   \n",
       "\n",
       "     Location_Type Incident_Zip  Incident_Address  ... Road_Ramp  \\\n",
       "0  Street/Sidewalk        11432  90-03 169 STREET  ...       NaN   \n",
       "\n",
       "  Bridge_Highway_Segment Garage_Lot_Name Ferry_Direction Ferry_Terminal_Name  \\\n",
       "0                    NaN             NaN             NaN                 NaN   \n",
       "\n",
       "      Latitude     Longitude                                 Location  Year  \\\n",
       "0  40.70827533  -73.79160396  (40.70827532593202, -73.79160395779721)  2013   \n",
       "\n",
       "  Month  \n",
       "0    10  \n",
       "\n",
       "[1 rows x 54 columns]"
      ]
     },
     "execution_count": 13,
     "metadata": {},
     "output_type": "execute_result"
    }
   ],
   "source": [
    "# month\n",
    "complaints['Month']=complaints['Created_Date'].dt.month\n",
    "complaints.head(1)"
   ]
  },
  {
   "cell_type": "code",
   "execution_count": 14,
   "id": "8ab9de3b",
   "metadata": {},
   "outputs": [
    {
     "data": {
      "text/plain": [
       "10    111069\n",
       "Name: Month, dtype: int64"
      ]
     },
     "execution_count": 14,
     "metadata": {},
     "output_type": "execute_result"
    }
   ],
   "source": [
    "complaints['Month'].value_counts()"
   ]
  },
  {
   "cell_type": "markdown",
   "id": "09eb4d20",
   "metadata": {},
   "source": [
    "### 4. Drop the columns which you are not going to use for any analysis/ not bringing any meaningful informations/ most of the entries are null (Find out 5 and explain why you selected that)\n",
    "\n",
    "    removing - Agency,  Bridge_Highway_Name, Bridge_Highway_Direction, Road_Ramp, Bridge_Highway_Direction, Garage_Lot_Name, Ferry_Direction, Ferry_Terminal_Name, Latitude, Longitude, Location, "
   ]
  },
  {
   "cell_type": "code",
   "execution_count": 15,
   "id": "e34f714b",
   "metadata": {},
   "outputs": [
    {
     "name": "stdout",
     "output_type": "stream",
     "text": [
      "<class 'pandas.core.frame.DataFrame'>\n",
      "RangeIndex: 111069 entries, 0 to 111068\n",
      "Data columns (total 54 columns):\n",
      " #   Column                          Non-Null Count   Dtype         \n",
      "---  ------                          --------------   -----         \n",
      " 0   Unique_Key                      111069 non-null  object        \n",
      " 1   Created_Date                    111069 non-null  datetime64[ns]\n",
      " 2   Closed_Date                     60270 non-null   object        \n",
      " 3   Agency                          111069 non-null  object        \n",
      " 4   Agency_Name                     111069 non-null  object        \n",
      " 5   Complaint_Type                  111069 non-null  object        \n",
      " 6   Descriptor                      110613 non-null  object        \n",
      " 7   Location_Type                   79022 non-null   object        \n",
      " 8   Incident_Zip                    98807 non-null   object        \n",
      " 9   Incident_Address                84441 non-null   object        \n",
      " 10  Street_Name                     84432 non-null   object        \n",
      " 11  Cross_Street_1                  84728 non-null   object        \n",
      " 12  Cross_Street_2                  84005 non-null   object        \n",
      " 13  Intersection_Street_1           19364 non-null   object        \n",
      " 14  Intersection_Street_2           19366 non-null   object        \n",
      " 15  Address_Type                    102247 non-null  object        \n",
      " 16  City                            98854 non-null   object        \n",
      " 17  Landmark                        95 non-null      object        \n",
      " 18  Facility_Type                   19104 non-null   object        \n",
      " 19  Status                          111069 non-null  object        \n",
      " 20  Due_Date                        39239 non-null   object        \n",
      " 21  Resolution_Action_Updated_Date  96507 non-null   object        \n",
      " 22  Community_Board                 111069 non-null  object        \n",
      " 23  Borough                         111069 non-null  object        \n",
      " 24  X_Coordinate_(State_Plane)      98143 non-null   object        \n",
      " 25  Y_Coordinate_(State_Plane)      98143 non-null   object        \n",
      " 26  Park_Facility_Name              111069 non-null  object        \n",
      " 27  Park_Borough                    111069 non-null  object        \n",
      " 28  School_Name                     111069 non-null  object        \n",
      " 29  School_Number                   111048 non-null  object        \n",
      " 30  School_Region                   110524 non-null  object        \n",
      " 31  School_Code                     110524 non-null  object        \n",
      " 32  School_Phone_Number             111069 non-null  object        \n",
      " 33  School_Address                  111069 non-null  object        \n",
      " 34  School_City                     111069 non-null  object        \n",
      " 35  School_State                    111069 non-null  object        \n",
      " 36  School_Zip                      111069 non-null  object        \n",
      " 37  School_Not_Found                38984 non-null   object        \n",
      " 38  School_or_Citywide_Complaint    0 non-null       object        \n",
      " 39  Vehicle_Type                    99 non-null      object        \n",
      " 40  Taxi_Company_Borough            117 non-null     object        \n",
      " 41  Taxi_Pick_Up_Location           1059 non-null    object        \n",
      " 42  Bridge_Highway_Name             185 non-null     object        \n",
      " 43  Bridge_Highway_Direction        185 non-null     object        \n",
      " 44  Road_Ramp                       180 non-null     object        \n",
      " 45  Bridge_Highway_Segment          219 non-null     object        \n",
      " 46  Garage_Lot_Name                 49 non-null      object        \n",
      " 47  Ferry_Direction                 24 non-null      object        \n",
      " 48  Ferry_Terminal_Name             70 non-null      object        \n",
      " 49  Latitude                        98143 non-null   object        \n",
      " 50  Longitude                       98143 non-null   object        \n",
      " 51  Location                        98143 non-null   object        \n",
      " 52  Year                            111069 non-null  int64         \n",
      " 53  Month                           111069 non-null  int64         \n",
      "dtypes: datetime64[ns](1), int64(2), object(51)\n",
      "memory usage: 45.8+ MB\n"
     ]
    }
   ],
   "source": [
    "complaints.info()"
   ]
  },
  {
   "cell_type": "code",
   "execution_count": 16,
   "id": "9f34b12b",
   "metadata": {},
   "outputs": [
    {
     "data": {
      "text/plain": [
       "Index(['Unique_Key', 'Created_Date', 'Closed_Date', 'Agency', 'Agency_Name',\n",
       "       'Complaint_Type', 'Descriptor', 'Location_Type', 'Incident_Zip',\n",
       "       'Incident_Address', 'Street_Name', 'Cross_Street_1', 'Cross_Street_2',\n",
       "       'Intersection_Street_1', 'Intersection_Street_2', 'Address_Type',\n",
       "       'City', 'Landmark', 'Facility_Type', 'Status', 'Due_Date',\n",
       "       'Resolution_Action_Updated_Date', 'Community_Board', 'Borough',\n",
       "       'X_Coordinate_(State_Plane)', 'Y_Coordinate_(State_Plane)',\n",
       "       'Park_Facility_Name', 'Park_Borough', 'School_Name', 'School_Number',\n",
       "       'School_Region', 'School_Code', 'School_Phone_Number', 'School_Address',\n",
       "       'School_City', 'School_State', 'School_Zip', 'School_Not_Found',\n",
       "       'School_or_Citywide_Complaint', 'Vehicle_Type', 'Taxi_Company_Borough',\n",
       "       'Taxi_Pick_Up_Location', 'Bridge_Highway_Name',\n",
       "       'Bridge_Highway_Direction', 'Road_Ramp', 'Bridge_Highway_Segment',\n",
       "       'Garage_Lot_Name', 'Ferry_Direction', 'Ferry_Terminal_Name', 'Latitude',\n",
       "       'Longitude', 'Location', 'Year', 'Month'],\n",
       "      dtype='object')"
      ]
     },
     "execution_count": 16,
     "metadata": {},
     "output_type": "execute_result"
    }
   ],
   "source": [
    "complaints.columns"
   ]
  },
  {
   "cell_type": "code",
   "execution_count": 17,
   "id": "eeb1cc28",
   "metadata": {},
   "outputs": [],
   "source": [
    "complaints.drop(['School_or_Citywide_Complaint','Garage_Lot_Name','Ferry_Direction', 'Ferry_Terminal_Name', 'Latitude',\n",
    "       'Longitude', 'Location'], \n",
    "        axis=1, \n",
    "        inplace=True)"
   ]
  },
  {
   "cell_type": "code",
   "execution_count": null,
   "id": "dc0abcb9",
   "metadata": {},
   "outputs": [],
   "source": []
  },
  {
   "cell_type": "markdown",
   "id": "8f03c7ac",
   "metadata": {},
   "source": [
    "### 5. Is there any missing value in the dataset? Display the list.\n",
    "Impute the missing values in Street_Name, Address_Type, and City "
   ]
  },
  {
   "cell_type": "markdown",
   "id": "f19f0102",
   "metadata": {},
   "source": [
    "Yes there are missing valyes in Street_Name, Address_Type, and City. Street_Name is missing 26,637 entries, Address_Type is missing 8,822 entries, and City is missing 12,215 entries. \n",
    "\n",
    "Since they are all categorical variables, we will be using constant to fill in the blank entries with unknown. "
   ]
  },
  {
   "cell_type": "code",
   "execution_count": 18,
   "id": "f40f7e5f",
   "metadata": {},
   "outputs": [
    {
     "data": {
      "text/plain": [
       "Unique_Key                             0\n",
       "Created_Date                           0\n",
       "Closed_Date                        50799\n",
       "Agency                                 0\n",
       "Agency_Name                            0\n",
       "Complaint_Type                         0\n",
       "Descriptor                           456\n",
       "Location_Type                      32047\n",
       "Incident_Zip                       12262\n",
       "Incident_Address                   26628\n",
       "Street_Name                        26637\n",
       "Cross_Street_1                     26341\n",
       "Cross_Street_2                     27064\n",
       "Intersection_Street_1              91705\n",
       "Intersection_Street_2              91703\n",
       "Address_Type                        8822\n",
       "City                               12215\n",
       "Landmark                          110974\n",
       "Facility_Type                      91965\n",
       "Status                                 0\n",
       "Due_Date                           71830\n",
       "Resolution_Action_Updated_Date     14562\n",
       "Community_Board                        0\n",
       "Borough                                0\n",
       "X_Coordinate_(State_Plane)         12926\n",
       "Y_Coordinate_(State_Plane)         12926\n",
       "Park_Facility_Name                     0\n",
       "Park_Borough                           0\n",
       "School_Name                            0\n",
       "School_Number                         21\n",
       "School_Region                        545\n",
       "School_Code                          545\n",
       "School_Phone_Number                    0\n",
       "School_Address                         0\n",
       "School_City                            0\n",
       "School_State                           0\n",
       "School_Zip                             0\n",
       "School_Not_Found                   72085\n",
       "Vehicle_Type                      110970\n",
       "Taxi_Company_Borough              110952\n",
       "Taxi_Pick_Up_Location             110010\n",
       "Bridge_Highway_Name               110884\n",
       "Bridge_Highway_Direction          110884\n",
       "Road_Ramp                         110889\n",
       "Bridge_Highway_Segment            110850\n",
       "Year                                   0\n",
       "Month                                  0\n",
       "dtype: int64"
      ]
     },
     "execution_count": 18,
     "metadata": {},
     "output_type": "execute_result"
    }
   ],
   "source": [
    "complaints.isnull().sum()"
   ]
  },
  {
   "cell_type": "code",
   "execution_count": 19,
   "id": "efcc207c",
   "metadata": {},
   "outputs": [],
   "source": [
    "complaints['Street_Name'].fillna('Unknown', \n",
    "                       inplace=True)"
   ]
  },
  {
   "cell_type": "code",
   "execution_count": 20,
   "id": "425f6a09",
   "metadata": {},
   "outputs": [
    {
     "data": {
      "text/plain": [
       "0"
      ]
     },
     "execution_count": 20,
     "metadata": {},
     "output_type": "execute_result"
    }
   ],
   "source": [
    "complaints['Street_Name'].isnull().sum()"
   ]
  },
  {
   "cell_type": "code",
   "execution_count": 21,
   "id": "12cea922",
   "metadata": {},
   "outputs": [],
   "source": [
    "complaints['Address_Type'].fillna('Unknown', \n",
    "                       inplace=True)"
   ]
  },
  {
   "cell_type": "code",
   "execution_count": 22,
   "id": "67d4d1c2",
   "metadata": {},
   "outputs": [
    {
     "data": {
      "text/plain": [
       "0"
      ]
     },
     "execution_count": 22,
     "metadata": {},
     "output_type": "execute_result"
    }
   ],
   "source": [
    "complaints['Address_Type'].isnull().sum()"
   ]
  },
  {
   "cell_type": "code",
   "execution_count": 23,
   "id": "ae1236e6",
   "metadata": {},
   "outputs": [],
   "source": [
    "complaints['City'].fillna('Unknown', \n",
    "                       inplace=True)"
   ]
  },
  {
   "cell_type": "code",
   "execution_count": 24,
   "id": "705e0fb6",
   "metadata": {},
   "outputs": [
    {
     "data": {
      "text/plain": [
       "0"
      ]
     },
     "execution_count": 24,
     "metadata": {},
     "output_type": "execute_result"
    }
   ],
   "source": [
    "complaints['City'].isnull().sum()"
   ]
  },
  {
   "cell_type": "markdown",
   "id": "8788539e",
   "metadata": {},
   "source": [
    "### 6. What are the top 5 `complains` received? Show the result graphically using bar plot."
   ]
  },
  {
   "cell_type": "markdown",
   "id": "7d1fb118",
   "metadata": {},
   "source": [
    "The top 5 complaint types recieved were heating, general construction, street light condition, DOF literature request, and plumbing. "
   ]
  },
  {
   "cell_type": "code",
   "execution_count": 25,
   "id": "8d0fdd32",
   "metadata": {},
   "outputs": [
    {
     "data": {
      "text/plain": [
       "<Axes: >"
      ]
     },
     "execution_count": 25,
     "metadata": {},
     "output_type": "execute_result"
    },
    {
     "data": {
      "image/png": "[encoded data removed]",
      "text/plain": [
       "<Figure size 640x480 with 1 Axes>"
      ]
     },
     "metadata": {},
     "output_type": "display_data"
    }
   ],
   "source": [
    "complaints['Complaint_Type'].value_counts().head().plot(kind=\"bar\")"
   ]
  },
  {
   "cell_type": "code",
   "execution_count": 26,
   "id": "a62f5656",
   "metadata": {},
   "outputs": [
    {
     "data": {
      "text/plain": [
       "HEATING                           14200\n",
       "GENERAL CONSTRUCTION               7471\n",
       "Street Light Condition             7117\n",
       "DOF Literature Request             5797\n",
       "PLUMBING                           5373\n",
       "                                  ...  \n",
       "Municipal Parking Facility            1\n",
       "Tunnel Condition                      1\n",
       "DHS Income Savings Requirement        1\n",
       "Stalled Sites                         1\n",
       "X-Ray Machine/Equipment               1\n",
       "Name: Complaint_Type, Length: 165, dtype: int64"
      ]
     },
     "execution_count": 26,
     "metadata": {},
     "output_type": "execute_result"
    }
   ],
   "source": [
    "complaints['Complaint_Type'].value_counts()"
   ]
  },
  {
   "cell_type": "markdown",
   "id": "890fbcc6",
   "metadata": {},
   "source": [
    "### 7. What's the most common `Borough` the complain came? Display top 5 most and plot them out"
   ]
  },
  {
   "cell_type": "markdown",
   "id": "ffb5d050",
   "metadata": {},
   "source": [
    "The most commom Borought that complaints came from was Brooklyn. \n",
    "\n",
    "The top 5 were Brooklyn, Manhattan, Queens, Bronx, and Unspecified. "
   ]
  },
  {
   "cell_type": "code",
   "execution_count": 27,
   "id": "76006b20",
   "metadata": {},
   "outputs": [
    {
     "data": {
      "text/plain": [
       "BROOKLYN         32890\n",
       "MANHATTAN        24288\n",
       "QUEENS           22281\n",
       "BRONX            19686\n",
       "Unspecified       7107\n",
       "STATEN ISLAND     4817\n",
       "Name: Borough, dtype: int64"
      ]
     },
     "execution_count": 27,
     "metadata": {},
     "output_type": "execute_result"
    }
   ],
   "source": [
    "complaints['Borough'].value_counts()"
   ]
  },
  {
   "cell_type": "code",
   "execution_count": 28,
   "id": "9cbbecdd",
   "metadata": {},
   "outputs": [
    {
     "data": {
      "text/plain": [
       "<Axes: >"
      ]
     },
     "execution_count": 28,
     "metadata": {},
     "output_type": "execute_result"
    },
    {
     "data": {
      "image/png": "[encoded data removed]",
      "text/plain": [
       "<Figure size 640x480 with 1 Axes>"
      ]
     },
     "metadata": {},
     "output_type": "display_data"
    }
   ],
   "source": [
    "complaints['Borough'].value_counts().head().plot(kind=\"bar\")"
   ]
  },
  {
   "cell_type": "markdown",
   "id": "b720399e",
   "metadata": {},
   "source": [
    "### 8. Which agency received the most complain and which one least?"
   ]
  },
  {
   "cell_type": "markdown",
   "id": "6e333591",
   "metadata": {},
   "source": [
    "The agency that recieved the most complaints was the HPD (New York City Department of Housing Preservation and Development) with 39067 complaints in October 2013. \n",
    "\n",
    "The agencies that recieved the least complaints was the OMB (Office of Management and Budget) and COIB (Conflicts of Interest Board) with 1 complaints in October 2013. "
   ]
  },
  {
   "cell_type": "code",
   "execution_count": 29,
   "id": "dcae8369",
   "metadata": {},
   "outputs": [
    {
     "data": {
      "text/plain": [
       "HPD       39067\n",
       "DOT       17707\n",
       "NYPD      15295\n",
       "DEP        8897\n",
       "DSNY       8385\n",
       "DOF        6370\n",
       "DPR        4614\n",
       "DOHMH      3237\n",
       "DOB        3014\n",
       "TLC        1491\n",
       "DCA        1405\n",
       "FDNY        631\n",
       "HRA         392\n",
       "DHS         101\n",
       "EDC          99\n",
       "DOE          97\n",
       "3/1/01       92\n",
       "CHALL        77\n",
       "DOITT        31\n",
       "OEM          29\n",
       "DFTA         22\n",
       "OPS           8\n",
       "OATH          4\n",
       "DOP           2\n",
       "COIB          1\n",
       "OMB           1\n",
       "Name: Agency, dtype: int64"
      ]
     },
     "execution_count": 29,
     "metadata": {},
     "output_type": "execute_result"
    }
   ],
   "source": [
    "complaints['Agency'].value_counts()"
   ]
  },
  {
   "cell_type": "markdown",
   "id": "e7de9245",
   "metadata": {},
   "source": [
    "## 9. Investigate the data set and look for meaningful information for two more questions (Individual/ discuss with partner)"
   ]
  },
  {
   "cell_type": "markdown",
   "id": "c72a702a",
   "metadata": {},
   "source": [
    "### 9. What were the top 5 complaints in Brooklyn, the borough with the most complaints, and display on bar graph. \n",
    "The top 5 complaints where heating, genreal construction, plumbing, street light condition, and paint - plaster."
   ]
  },
  {
   "cell_type": "code",
   "execution_count": 30,
   "id": "0c9be7dc",
   "metadata": {},
   "outputs": [
    {
     "data": {
      "text/plain": [
       "HEATING                   4548\n",
       "GENERAL CONSTRUCTION      2791\n",
       "PLUMBING                  2017\n",
       "Street Light Condition    1956\n",
       "PAINT - PLASTER           1821\n",
       "Name: Complaint_Type, dtype: int64"
      ]
     },
     "execution_count": 30,
     "metadata": {},
     "output_type": "execute_result"
    }
   ],
   "source": [
    "complaints_brooklyn=complaints.loc[(complaints.Borough=='BROOKLYN')]\n",
    "complaints_brooklyn['Complaint_Type'].value_counts().head()"
   ]
  },
  {
   "cell_type": "code",
   "execution_count": 31,
   "id": "235f66d9",
   "metadata": {},
   "outputs": [
    {
     "data": {
      "text/plain": [
       "<Axes: >"
      ]
     },
     "execution_count": 31,
     "metadata": {},
     "output_type": "execute_result"
    },
    {
     "data": {
      "image/png": "[encoded data removed]",
      "text/plain": [
       "<Figure size 640x480 with 1 Axes>"
      ]
     },
     "metadata": {},
     "output_type": "display_data"
    }
   ],
   "source": [
    "complaints_brooklyn['Complaint_Type'].value_counts().head().plot(kind='bar')"
   ]
  },
  {
   "cell_type": "markdown",
   "id": "bfea9436",
   "metadata": {},
   "source": [
    "### What borough had the least complaints, what were the top 5 and display on bar graph?\n",
    "\n",
    "Borough with least complaints was staten island. The top 5 complaints were street light condition, street condition, water system, illegal parking, general construction."
   ]
  },
  {
   "cell_type": "code",
   "execution_count": 32,
   "id": "49d412e3",
   "metadata": {},
   "outputs": [
    {
     "data": {
      "text/plain": [
       "BROOKLYN         32890\n",
       "MANHATTAN        24288\n",
       "QUEENS           22281\n",
       "BRONX            19686\n",
       "Unspecified       7107\n",
       "STATEN ISLAND     4817\n",
       "Name: Borough, dtype: int64"
      ]
     },
     "execution_count": 32,
     "metadata": {},
     "output_type": "execute_result"
    }
   ],
   "source": [
    "complaints['Borough'].value_counts()"
   ]
  },
  {
   "cell_type": "code",
   "execution_count": 33,
   "id": "5dc1f654",
   "metadata": {},
   "outputs": [
    {
     "data": {
      "text/plain": [
       "Street Light Condition    449\n",
       "Street Condition          445\n",
       "Water System              326\n",
       "Illegal Parking           278\n",
       "GENERAL CONSTRUCTION      224\n",
       "Name: Complaint_Type, dtype: int64"
      ]
     },
     "execution_count": 33,
     "metadata": {},
     "output_type": "execute_result"
    }
   ],
   "source": [
    "complaints_staten=complaints.loc[(complaints.Borough=='STATEN ISLAND')]\n",
    "complaints_staten['Complaint_Type'].value_counts().head()"
   ]
  },
  {
   "cell_type": "code",
   "execution_count": 34,
   "id": "5743da7d",
   "metadata": {},
   "outputs": [
    {
     "data": {
      "text/plain": [
       "<Axes: >"
      ]
     },
     "execution_count": 34,
     "metadata": {},
     "output_type": "execute_result"
    },
    {
     "data": {
      "image/png": "[encoded data removed]",
      "text/plain": [
       "<Figure size 640x480 with 1 Axes>"
      ]
     },
     "metadata": {},
     "output_type": "display_data"
    }
   ],
   "source": [
    "complaints_staten['Complaint_Type'].value_counts().head().plot(kind='bar')"
   ]
  },
  {
   "cell_type": "markdown",
   "id": "d5077e20",
   "metadata": {},
   "source": [
    "### 10. Select illegal Parking complains at Queens Borough and save it to new_complaint. How many entries are there?\n",
    "You can use `query`/iloc"
   ]
  },
  {
   "cell_type": "markdown",
   "id": "aa4e2b78",
   "metadata": {},
   "source": [
    "There are 887 entries for complaints concerning illegal parking in Queens"
   ]
  },
  {
   "cell_type": "code",
   "execution_count": 35,
   "id": "a63c768e",
   "metadata": {},
   "outputs": [],
   "source": [
    "new_complaints=complaints.query('Complaint_Type==\"Illegal Parking\" & Borough==\"QUEENS\"')"
   ]
  },
  {
   "cell_type": "code",
   "execution_count": 36,
   "id": "e8cfb1ab",
   "metadata": {},
   "outputs": [
    {
     "name": "stdout",
     "output_type": "stream",
     "text": [
      "There are 887 entries for complaints concerning illegal parking in Queens\n"
     ]
    }
   ],
   "source": [
    "print(f\"There are {len(new_complaints)} entries for complaints concerning illegal parking in Queens\")"
   ]
  },
  {
   "cell_type": "code",
   "execution_count": 37,
   "id": "5fd23b93",
   "metadata": {},
   "outputs": [
    {
     "data": {
      "text/html": [
       "<div>\n",
       "<style scoped>\n",
       "    .dataframe tbody tr th:only-of-type {\n",
       "        vertical-align: middle;\n",
       "    }\n",
       "\n",
       "    .dataframe tbody tr th {\n",
       "        vertical-align: top;\n",
       "    }\n",
       "\n",
       "    .dataframe thead th {\n",
       "        text-align: right;\n",
       "    }\n",
       "</style>\n",
       "<table border=\"1\" class=\"dataframe\">\n",
       "  <thead>\n",
       "    <tr style=\"text-align: right;\">\n",
       "      <th></th>\n",
       "      <th>Unique_Key</th>\n",
       "      <th>Created_Date</th>\n",
       "      <th>Closed_Date</th>\n",
       "      <th>Agency</th>\n",
       "      <th>Agency_Name</th>\n",
       "      <th>Complaint_Type</th>\n",
       "      <th>Descriptor</th>\n",
       "      <th>Location_Type</th>\n",
       "      <th>Incident_Zip</th>\n",
       "      <th>Incident_Address</th>\n",
       "      <th>...</th>\n",
       "      <th>School_Not_Found</th>\n",
       "      <th>Vehicle_Type</th>\n",
       "      <th>Taxi_Company_Borough</th>\n",
       "      <th>Taxi_Pick_Up_Location</th>\n",
       "      <th>Bridge_Highway_Name</th>\n",
       "      <th>Bridge_Highway_Direction</th>\n",
       "      <th>Road_Ramp</th>\n",
       "      <th>Bridge_Highway_Segment</th>\n",
       "      <th>Year</th>\n",
       "      <th>Month</th>\n",
       "    </tr>\n",
       "  </thead>\n",
       "  <tbody>\n",
       "    <tr>\n",
       "      <th>1</th>\n",
       "      <td>26593698</td>\n",
       "      <td>2013-10-31 02:01:00</td>\n",
       "      <td>NaN</td>\n",
       "      <td>NYPD</td>\n",
       "      <td>New York City Police Department</td>\n",
       "      <td>Illegal Parking</td>\n",
       "      <td>Commercial Overnight Parking</td>\n",
       "      <td>Street/Sidewalk</td>\n",
       "      <td>11378</td>\n",
       "      <td>58 AVENUE</td>\n",
       "      <td>...</td>\n",
       "      <td>N</td>\n",
       "      <td>NaN</td>\n",
       "      <td>NaN</td>\n",
       "      <td>NaN</td>\n",
       "      <td>NaN</td>\n",
       "      <td>NaN</td>\n",
       "      <td>NaN</td>\n",
       "      <td>NaN</td>\n",
       "      <td>2013</td>\n",
       "      <td>10</td>\n",
       "    </tr>\n",
       "    <tr>\n",
       "      <th>116</th>\n",
       "      <td>26591037</td>\n",
       "      <td>2013-10-30 23:20:00</td>\n",
       "      <td>10/31/13 2:16</td>\n",
       "      <td>NYPD</td>\n",
       "      <td>New York City Police Department</td>\n",
       "      <td>Illegal Parking</td>\n",
       "      <td>Blocked Hydrant</td>\n",
       "      <td>Street/Sidewalk</td>\n",
       "      <td>11417</td>\n",
       "      <td>133-40 85 STREET</td>\n",
       "      <td>...</td>\n",
       "      <td>N</td>\n",
       "      <td>NaN</td>\n",
       "      <td>NaN</td>\n",
       "      <td>NaN</td>\n",
       "      <td>NaN</td>\n",
       "      <td>NaN</td>\n",
       "      <td>NaN</td>\n",
       "      <td>NaN</td>\n",
       "      <td>2013</td>\n",
       "      <td>10</td>\n",
       "    </tr>\n",
       "    <tr>\n",
       "      <th>117</th>\n",
       "      <td>26592954</td>\n",
       "      <td>2013-10-30 23:20:00</td>\n",
       "      <td>10/31/13 1:18</td>\n",
       "      <td>NYPD</td>\n",
       "      <td>New York City Police Department</td>\n",
       "      <td>Illegal Parking</td>\n",
       "      <td>Posted Parking Sign Violation</td>\n",
       "      <td>Street/Sidewalk</td>\n",
       "      <td>11365</td>\n",
       "      <td>197-05A 65 CRESCENT</td>\n",
       "      <td>...</td>\n",
       "      <td>N</td>\n",
       "      <td>NaN</td>\n",
       "      <td>NaN</td>\n",
       "      <td>NaN</td>\n",
       "      <td>NaN</td>\n",
       "      <td>NaN</td>\n",
       "      <td>NaN</td>\n",
       "      <td>NaN</td>\n",
       "      <td>2013</td>\n",
       "      <td>10</td>\n",
       "    </tr>\n",
       "    <tr>\n",
       "      <th>140</th>\n",
       "      <td>26592551</td>\n",
       "      <td>2013-10-30 23:01:00</td>\n",
       "      <td>NaN</td>\n",
       "      <td>NYPD</td>\n",
       "      <td>New York City Police Department</td>\n",
       "      <td>Illegal Parking</td>\n",
       "      <td>Commercial Overnight Parking</td>\n",
       "      <td>Street/Sidewalk</td>\n",
       "      <td>11379</td>\n",
       "      <td>77-15 58 AVENUE</td>\n",
       "      <td>...</td>\n",
       "      <td>N</td>\n",
       "      <td>NaN</td>\n",
       "      <td>NaN</td>\n",
       "      <td>NaN</td>\n",
       "      <td>NaN</td>\n",
       "      <td>NaN</td>\n",
       "      <td>NaN</td>\n",
       "      <td>NaN</td>\n",
       "      <td>2013</td>\n",
       "      <td>10</td>\n",
       "    </tr>\n",
       "    <tr>\n",
       "      <th>186</th>\n",
       "      <td>26591575</td>\n",
       "      <td>2013-10-30 22:33:00</td>\n",
       "      <td>10/30/13 23:06</td>\n",
       "      <td>NYPD</td>\n",
       "      <td>New York City Police Department</td>\n",
       "      <td>Illegal Parking</td>\n",
       "      <td>Commercial Overnight Parking</td>\n",
       "      <td>Street/Sidewalk</td>\n",
       "      <td>11691</td>\n",
       "      <td>14-28 CHANDLER STREET</td>\n",
       "      <td>...</td>\n",
       "      <td>N</td>\n",
       "      <td>NaN</td>\n",
       "      <td>NaN</td>\n",
       "      <td>NaN</td>\n",
       "      <td>NaN</td>\n",
       "      <td>NaN</td>\n",
       "      <td>NaN</td>\n",
       "      <td>NaN</td>\n",
       "      <td>2013</td>\n",
       "      <td>10</td>\n",
       "    </tr>\n",
       "  </tbody>\n",
       "</table>\n",
       "<p>5 rows × 47 columns</p>\n",
       "</div>"
      ],
      "text/plain": [
       "    Unique_Key        Created_Date     Closed_Date Agency  \\\n",
       "1     26593698 2013-10-31 02:01:00             NaN   NYPD   \n",
       "116   26591037 2013-10-30 23:20:00   10/31/13 2:16   NYPD   \n",
       "117   26592954 2013-10-30 23:20:00   10/31/13 1:18   NYPD   \n",
       "140   26592551 2013-10-30 23:01:00             NaN   NYPD   \n",
       "186   26591575 2013-10-30 22:33:00  10/30/13 23:06   NYPD   \n",
       "\n",
       "                         Agency_Name   Complaint_Type  \\\n",
       "1    New York City Police Department  Illegal Parking   \n",
       "116  New York City Police Department  Illegal Parking   \n",
       "117  New York City Police Department  Illegal Parking   \n",
       "140  New York City Police Department  Illegal Parking   \n",
       "186  New York City Police Department  Illegal Parking   \n",
       "\n",
       "                        Descriptor    Location_Type Incident_Zip  \\\n",
       "1     Commercial Overnight Parking  Street/Sidewalk        11378   \n",
       "116                Blocked Hydrant  Street/Sidewalk        11417   \n",
       "117  Posted Parking Sign Violation  Street/Sidewalk        11365   \n",
       "140   Commercial Overnight Parking  Street/Sidewalk        11379   \n",
       "186   Commercial Overnight Parking  Street/Sidewalk        11691   \n",
       "\n",
       "          Incident_Address  ... School_Not_Found Vehicle_Type  \\\n",
       "1                58 AVENUE  ...                N          NaN   \n",
       "116       133-40 85 STREET  ...                N          NaN   \n",
       "117    197-05A 65 CRESCENT  ...                N          NaN   \n",
       "140        77-15 58 AVENUE  ...                N          NaN   \n",
       "186  14-28 CHANDLER STREET  ...                N          NaN   \n",
       "\n",
       "    Taxi_Company_Borough Taxi_Pick_Up_Location Bridge_Highway_Name  \\\n",
       "1                    NaN                   NaN                 NaN   \n",
       "116                  NaN                   NaN                 NaN   \n",
       "117                  NaN                   NaN                 NaN   \n",
       "140                  NaN                   NaN                 NaN   \n",
       "186                  NaN                   NaN                 NaN   \n",
       "\n",
       "    Bridge_Highway_Direction Road_Ramp Bridge_Highway_Segment  Year Month  \n",
       "1                        NaN       NaN                    NaN  2013    10  \n",
       "116                      NaN       NaN                    NaN  2013    10  \n",
       "117                      NaN       NaN                    NaN  2013    10  \n",
       "140                      NaN       NaN                    NaN  2013    10  \n",
       "186                      NaN       NaN                    NaN  2013    10  \n",
       "\n",
       "[5 rows x 47 columns]"
      ]
     },
     "execution_count": 37,
     "metadata": {},
     "output_type": "execute_result"
    }
   ],
   "source": [
    "new_complaints.head()"
   ]
  },
  {
   "cell_type": "markdown",
   "id": "65793089",
   "metadata": {},
   "source": [
    "### 11. Filter 3 columns `Complaint_Type, Created_Date,Descriptor` from the new_complaint and save it as a CSV file named **Complains at Queens**."
   ]
  },
  {
   "cell_type": "code",
   "execution_count": 38,
   "id": "f4587d7e",
   "metadata": {},
   "outputs": [],
   "source": [
    "complaints_at_queens=new_complaints.iloc[:,[0,4,5,6]]"
   ]
  },
  {
   "cell_type": "code",
   "execution_count": 39,
   "id": "17af8a74",
   "metadata": {},
   "outputs": [
    {
     "data": {
      "text/html": [
       "<div>\n",
       "<style scoped>\n",
       "    .dataframe tbody tr th:only-of-type {\n",
       "        vertical-align: middle;\n",
       "    }\n",
       "\n",
       "    .dataframe tbody tr th {\n",
       "        vertical-align: top;\n",
       "    }\n",
       "\n",
       "    .dataframe thead th {\n",
       "        text-align: right;\n",
       "    }\n",
       "</style>\n",
       "<table border=\"1\" class=\"dataframe\">\n",
       "  <thead>\n",
       "    <tr style=\"text-align: right;\">\n",
       "      <th></th>\n",
       "      <th>Unique_Key</th>\n",
       "      <th>Agency_Name</th>\n",
       "      <th>Complaint_Type</th>\n",
       "      <th>Descriptor</th>\n",
       "    </tr>\n",
       "  </thead>\n",
       "  <tbody>\n",
       "    <tr>\n",
       "      <th>1</th>\n",
       "      <td>26593698</td>\n",
       "      <td>New York City Police Department</td>\n",
       "      <td>Illegal Parking</td>\n",
       "      <td>Commercial Overnight Parking</td>\n",
       "    </tr>\n",
       "    <tr>\n",
       "      <th>116</th>\n",
       "      <td>26591037</td>\n",
       "      <td>New York City Police Department</td>\n",
       "      <td>Illegal Parking</td>\n",
       "      <td>Blocked Hydrant</td>\n",
       "    </tr>\n",
       "    <tr>\n",
       "      <th>117</th>\n",
       "      <td>26592954</td>\n",
       "      <td>New York City Police Department</td>\n",
       "      <td>Illegal Parking</td>\n",
       "      <td>Posted Parking Sign Violation</td>\n",
       "    </tr>\n",
       "    <tr>\n",
       "      <th>140</th>\n",
       "      <td>26592551</td>\n",
       "      <td>New York City Police Department</td>\n",
       "      <td>Illegal Parking</td>\n",
       "      <td>Commercial Overnight Parking</td>\n",
       "    </tr>\n",
       "    <tr>\n",
       "      <th>186</th>\n",
       "      <td>26591575</td>\n",
       "      <td>New York City Police Department</td>\n",
       "      <td>Illegal Parking</td>\n",
       "      <td>Commercial Overnight Parking</td>\n",
       "    </tr>\n",
       "  </tbody>\n",
       "</table>\n",
       "</div>"
      ],
      "text/plain": [
       "    Unique_Key                      Agency_Name   Complaint_Type  \\\n",
       "1     26593698  New York City Police Department  Illegal Parking   \n",
       "116   26591037  New York City Police Department  Illegal Parking   \n",
       "117   26592954  New York City Police Department  Illegal Parking   \n",
       "140   26592551  New York City Police Department  Illegal Parking   \n",
       "186   26591575  New York City Police Department  Illegal Parking   \n",
       "\n",
       "                        Descriptor  \n",
       "1     Commercial Overnight Parking  \n",
       "116                Blocked Hydrant  \n",
       "117  Posted Parking Sign Violation  \n",
       "140   Commercial Overnight Parking  \n",
       "186   Commercial Overnight Parking  "
      ]
     },
     "execution_count": 39,
     "metadata": {},
     "output_type": "execute_result"
    }
   ],
   "source": [
    "complaints_at_queens.head()"
   ]
  },
  {
   "cell_type": "code",
   "execution_count": 40,
   "id": "23639c4a",
   "metadata": {},
   "outputs": [],
   "source": [
    "complaints_at_queens.to_csv(\"Complaints_at_Queens.csv\", index=False)"
   ]
  },
  {
   "cell_type": "markdown",
   "id": "b042f23a",
   "metadata": {},
   "source": [
    "### 12. Load it back to verify the data"
   ]
  },
  {
   "cell_type": "code",
   "execution_count": 41,
   "id": "8e1f7499",
   "metadata": {},
   "outputs": [],
   "source": [
    "complaints_at_queens1= pd.read_csv(\"Complaints_at_Queens.csv\",\n",
    "          index_col=[0])"
   ]
  },
  {
   "cell_type": "code",
   "execution_count": 42,
   "id": "18743ec3",
   "metadata": {},
   "outputs": [
    {
     "data": {
      "text/html": [
       "<div>\n",
       "<style scoped>\n",
       "    .dataframe tbody tr th:only-of-type {\n",
       "        vertical-align: middle;\n",
       "    }\n",
       "\n",
       "    .dataframe tbody tr th {\n",
       "        vertical-align: top;\n",
       "    }\n",
       "\n",
       "    .dataframe thead th {\n",
       "        text-align: right;\n",
       "    }\n",
       "</style>\n",
       "<table border=\"1\" class=\"dataframe\">\n",
       "  <thead>\n",
       "    <tr style=\"text-align: right;\">\n",
       "      <th></th>\n",
       "      <th>Agency_Name</th>\n",
       "      <th>Complaint_Type</th>\n",
       "      <th>Descriptor</th>\n",
       "    </tr>\n",
       "    <tr>\n",
       "      <th>Unique_Key</th>\n",
       "      <th></th>\n",
       "      <th></th>\n",
       "      <th></th>\n",
       "    </tr>\n",
       "  </thead>\n",
       "  <tbody>\n",
       "    <tr>\n",
       "      <th>26593698</th>\n",
       "      <td>New York City Police Department</td>\n",
       "      <td>Illegal Parking</td>\n",
       "      <td>Commercial Overnight Parking</td>\n",
       "    </tr>\n",
       "    <tr>\n",
       "      <th>26591037</th>\n",
       "      <td>New York City Police Department</td>\n",
       "      <td>Illegal Parking</td>\n",
       "      <td>Blocked Hydrant</td>\n",
       "    </tr>\n",
       "    <tr>\n",
       "      <th>26592954</th>\n",
       "      <td>New York City Police Department</td>\n",
       "      <td>Illegal Parking</td>\n",
       "      <td>Posted Parking Sign Violation</td>\n",
       "    </tr>\n",
       "    <tr>\n",
       "      <th>26592551</th>\n",
       "      <td>New York City Police Department</td>\n",
       "      <td>Illegal Parking</td>\n",
       "      <td>Commercial Overnight Parking</td>\n",
       "    </tr>\n",
       "    <tr>\n",
       "      <th>26591575</th>\n",
       "      <td>New York City Police Department</td>\n",
       "      <td>Illegal Parking</td>\n",
       "      <td>Commercial Overnight Parking</td>\n",
       "    </tr>\n",
       "  </tbody>\n",
       "</table>\n",
       "</div>"
      ],
      "text/plain": [
       "                                Agency_Name   Complaint_Type  \\\n",
       "Unique_Key                                                     \n",
       "26593698    New York City Police Department  Illegal Parking   \n",
       "26591037    New York City Police Department  Illegal Parking   \n",
       "26592954    New York City Police Department  Illegal Parking   \n",
       "26592551    New York City Police Department  Illegal Parking   \n",
       "26591575    New York City Police Department  Illegal Parking   \n",
       "\n",
       "                               Descriptor  \n",
       "Unique_Key                                 \n",
       "26593698     Commercial Overnight Parking  \n",
       "26591037                  Blocked Hydrant  \n",
       "26592954    Posted Parking Sign Violation  \n",
       "26592551     Commercial Overnight Parking  \n",
       "26591575     Commercial Overnight Parking  "
      ]
     },
     "execution_count": 42,
     "metadata": {},
     "output_type": "execute_result"
    }
   ],
   "source": [
    "complaints_at_queens1.head()"
   ]
  },
  {
   "cell_type": "code",
   "execution_count": null,
   "id": "dec72df9",
   "metadata": {},
   "outputs": [],
   "source": []
  }
 ],
 "metadata": {
  "kernelspec": {
   "display_name": "Python 3 (ipykernel)",
   "language": "python",
   "name": "python3"
  },
  "language_info": {
   "codemirror_mode": {
    "name": "ipython",
    "version": 3
   },
   "file_extension": ".py",
   "mimetype": "text/x-python",
   "name": "python",
   "nbconvert_exporter": "python",
   "pygments_lexer": "ipython3",
   "version": "3.11.4"
  }
 },
 "nbformat": 4,
 "nbformat_minor": 5
}
